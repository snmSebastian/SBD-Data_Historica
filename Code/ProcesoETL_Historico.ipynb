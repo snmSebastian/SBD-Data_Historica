{
 "cells": [
  {
   "cell_type": "code",
   "execution_count": 1,
   "metadata": {},
   "outputs": [],
   "source": [
    "#Liberia\n",
    "import pandas as pd\n",
    "\n",
    "#Permite buscar y recuperar una lista de nombres de archivos que coinciden con un patrón específico de nombre\n",
    "#de archivo en un directorio o en una jerarquía de directorios.\n",
    "import glob\n",
    "\n",
    "import numpy as np\n",
    "import os\n",
    "from datetime import datetime, timedelta"
   ]
  },
  {
   "cell_type": "code",
   "execution_count": 2,
   "metadata": {},
   "outputs": [],
   "source": [
    "# Data  Historica\n",
    "\n",
    "# utilizamos la función glob para crear una lista de rutas de archivo que coinciden con el patrón *Chile Mensual*.csv\n",
    "# en el directorio path_chi_men. Esto nos da una lista de todas las rutas de archivo que cumplen con el patrón en el\n",
    "# directorio.\n",
    "\n",
    "path_data_historica_fill_rate= r'C:\\Users\\SSN0609\\OneDrive - Stanley Black & Decker\\Dashboards LAG\\Data Flow\\Master Products_Customers\\Data_Historica\\Fill Rate'\n",
    "path_data_historica_sales= r'C:\\Users\\SSN0609\\OneDrive - Stanley Black & Decker\\Dashboards LAG\\Data Flow\\Master Products_Customers\\Data_Historica\\Sales'\n",
    "path_data_historica_demand= r'C:\\Users\\SSN0609\\OneDrive - Stanley Black & Decker\\Dashboards LAG\\Data Flow\\Master Products_Customers\\Data_Historica\\Demand'\n",
    "\n",
    "all_files_fill_rate= glob.glob(path_data_historica_fill_rate+\"/*Fill Rate*.xlsx\")\n",
    "all_files_sales= glob.glob(path_data_historica_sales+\"/*Sales*.xlsx\")\n",
    "all_files_demand= glob.glob(path_data_historica_demand+\"/*Demand*.xlsx\")\n"
   ]
  },
  {
   "cell_type": "code",
   "execution_count": 3,
   "metadata": {},
   "outputs": [
    {
     "data": {
      "text/plain": [
       "['C:\\\\Users\\\\SSN0609\\\\OneDrive - Stanley Black & Decker\\\\Dashboards LAG\\\\Data Flow\\\\Master Products_Customers\\\\Data_Historica\\\\Demand\\\\Demand 2023.xlsx',\n",
       " 'C:\\\\Users\\\\SSN0609\\\\OneDrive - Stanley Black & Decker\\\\Dashboards LAG\\\\Data Flow\\\\Master Products_Customers\\\\Data_Historica\\\\Demand\\\\Demand 2024.xlsx',\n",
       " 'C:\\\\Users\\\\SSN0609\\\\OneDrive - Stanley Black & Decker\\\\Dashboards LAG\\\\Data Flow\\\\Master Products_Customers\\\\Data_Historica\\\\Demand\\\\Demand 2025.xlsx']"
      ]
     },
     "execution_count": 3,
     "metadata": {},
     "output_type": "execute_result"
    }
   ],
   "source": [
    "all_files_demand"
   ]
  },
  {
   "cell_type": "code",
   "execution_count": 4,
   "metadata": {},
   "outputs": [],
   "source": [
    "lst_Fill_Rate=[]\n",
    "lst_Demand=[]\n",
    "lst_Sales=[]\n",
    "\n",
    "for filename in all_files_fill_rate:\n",
    "    df=pd.read_excel(filename,index_col=None,header=0,dtype=str)\n",
    "    lst_Fill_Rate.append(df)\n",
    "\n",
    "for filename in all_files_sales:\n",
    "    df=pd.read_excel(filename,index_col=None,header=0,dtype=str)\n",
    "    lst_Sales.append(df)\n",
    "\n",
    "for filename in all_files_demand:\n",
    "    df=pd.read_excel(filename,index_col=None,header=0,dtype=str)\n",
    "    lst_Demand.append(df)\n",
    "\n",
    "df_fill_rate=pd.concat(lst_Fill_Rate,axis=0,ignore_index=True)\n",
    "df_sales=pd.concat(lst_Sales,axis=0,ignore_index=True)\n",
    "df_demand=pd.concat(lst_Demand,axis=0,ignore_index=True)\n"
   ]
  },
  {
   "cell_type": "code",
   "execution_count": 6,
   "metadata": {},
   "outputs": [],
   "source": [
    "ruta_fill_rate = r'C:\\Users\\SSN0609\\OneDrive - Stanley Black & Decker\\Dashboards LAG\\Data Flow\\Master Products_Customers\\Data_Historica\\Dataflow\\fill_rate_historico.csv'\n",
    "ruta_sales = r'C:\\Users\\SSN0609\\OneDrive - Stanley Black & Decker\\Dashboards LAG\\Data Flow\\Master Products_Customers\\Data_Historica\\Dataflow\\Sales_historico.csv'\n",
    "ruta_demand = r'C:\\Users\\SSN0609\\OneDrive - Stanley Black & Decker\\Dashboards LAG\\Data Flow\\Master Products_Customers\\Data_Historica\\Dataflow\\Demand.historico.csv'\n",
    "\n",
    "\n",
    "df_fill_rate.to_csv(ruta_fill_rate, index=False)\n",
    "df_sales.to_csv(ruta_sales, index=False)\n",
    "df_demand.to_csv(ruta_demand, index=False)"
   ]
  }
 ],
 "metadata": {
  "kernelspec": {
   "display_name": "Python 3",
   "language": "python",
   "name": "python3"
  },
  "language_info": {
   "codemirror_mode": {
    "name": "ipython",
    "version": 3
   },
   "file_extension": ".py",
   "mimetype": "text/x-python",
   "name": "python",
   "nbconvert_exporter": "python",
   "pygments_lexer": "ipython3",
   "version": "3.12.2"
  }
 },
 "nbformat": 4,
 "nbformat_minor": 2
}
